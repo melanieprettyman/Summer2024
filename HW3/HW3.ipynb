{
 "cells": [
  {
   "cell_type": "markdown",
   "source": [
    "## PART 1 Data Acquisition"
   ],
   "metadata": {
    "collapsed": false
   },
   "id": "ca89d2ea7d786afa"
  },
  {
   "cell_type": "code",
   "outputs": [
    {
     "name": "stdout",
     "output_type": "stream",
     "text": [
      "     rank  title_lengths  age_in_hours  points  comment_counts\n",
      "0       1             74             1      38              10\n",
      "1       2             93            14     842             155\n",
      "2       3             78             1      35              13\n",
      "3       4             34            11     294             289\n",
      "4       5             85            17     685             198\n",
      "..    ...            ...           ...     ...             ...\n",
      "145   146             23             8      31              17\n",
      "146   147             78             2       4               0\n",
      "147   148             81            48     100              70\n",
      "148   149             43            48      50               4\n",
      "149   150             60            48     351              93\n",
      "\n",
      "[150 rows x 5 columns]\n"
     ]
    }
   ],
   "source": [
    "from bs4 import BeautifulSoup\n",
    "import pandas as pd\n",
    "import urllib.request\n",
    "import re\n",
    "import time\n",
    "\n",
    "# lists to store the data\n",
    "ranks = []\n",
    "title_lengths = []\n",
    "age_in_hours = []\n",
    "points = []\n",
    "comment_counts = []\n",
    "\n",
    "# Loop through the first 5 pages\n",
    "for i in range(5):\n",
    "    url= \"https://news.ycombinator.com/?p=\" + str(i+1)\n",
    "    \n",
    "    # read and decode page \n",
    "    with urllib.request.urlopen (url) as response:\n",
    "        html = response.read()\n",
    "        html = html.decode(\"utf-8\")\n",
    "    \n",
    "    # save the HTML page content\n",
    "    with open (\"hackernews\" + str(i+1) + \".html\", \"w\") as new_file:\n",
    "        new_file.write(html)\n",
    "    \n",
    "    # parse the HTML content stored in html and save as 'soup'\n",
    "    parsedPage = BeautifulSoup(html, 'html.parser')\n",
    "\n",
    "    #scraping rank\n",
    "    for post in parsedPage.find_all(class_=\"rank\"):\n",
    "        rank = str(post.text)\n",
    "        rank = rank.replace('.','')\n",
    "        ranks.append(int(rank))\n",
    "\n",
    "    #scraping length of title\n",
    "    for title in parsedPage.find_all(class_=\"titleline\"):\n",
    "        title_lengths.append(len(title.text))\n",
    "\n",
    "    #scraping age of post\n",
    "    for age  in parsedPage.find_all(class_=\"age\"):\n",
    "        age_str = str(age.text)\n",
    "        age_str = age_str.removesuffix(\" hours ago\")\n",
    "        age_str = age_str.removesuffix(\" hour ago\")\n",
    "        \n",
    "        # 1 day ago, converted to 24 hours\n",
    "        if \" day ago\" in age_str:\n",
    "            age_in_hours.append(24)\n",
    "        elif \" days ago\" in age_str:\n",
    "            modified_string = age_str.replace(\" days ago\", \"\")\n",
    "            age_int = int(modified_string)\n",
    "            age_in_hours.append(24*age_int)\n",
    "        elif \" minutes ago\" in age_str:\n",
    "            age_in_hours.append(0)\n",
    "        elif \" minute ago\" in age_str:\n",
    "            age_in_hours.append(0)\n",
    "        else:\n",
    "            age_in_hours.append(int(age_str))\n",
    "\n",
    "    #scraping points and comments\n",
    "    for subtext in parsedPage.find_all(class_=\"subtext\" ):\n",
    "        point = 0\n",
    "        comments = 0\n",
    "        for score in subtext.find_all(class_=\"score\"):\n",
    "            # extract the number from the text\n",
    "            point = int(re.search(r'\\d+', str(score.text)).group())\n",
    "\n",
    "        for anchorTag in subtext.find_all(\"a\"):\n",
    "            if anchorTag.text.endswith(\"comments\"):\n",
    "                a_string = str(anchorTag.text)\n",
    "                # extract the number from the text\n",
    "                comments = int(re.search(r'\\d+', a_string).group())\n",
    "        comment_counts.append(int(comments))\n",
    "        points.append(int(point))\n",
    "    \n",
    "    # avoid overloading the server    \n",
    "    time.sleep(5)\n",
    "\n",
    "\n",
    "# creating a data frame\n",
    "submissions_df1 = pd.DataFrame({\"rank\": ranks, \"title_lengths\": title_lengths, \"age_in_hours\": age_in_hours, \"points\": points, \"comment_counts\": comment_counts})\n",
    "print(submissions_df1)\n",
    "\n",
    "# save as csv file\n",
    "submissions_df1.to_csv('hackerPosts.csv', index=False)"
   ],
   "metadata": {
    "collapsed": false,
    "ExecuteTime": {
     "end_time": "2024-06-04T02:27:18.044619Z",
     "start_time": "2024-06-04T02:26:51.691334Z"
    }
   },
   "id": "ea2bf0de2face514",
   "execution_count": 40
  },
  {
   "cell_type": "markdown",
   "source": [
    "## Part 2 Regression"
   ],
   "metadata": {
    "collapsed": false
   },
   "id": "9826d42d4a6dfcf7"
  },
  {
   "cell_type": "code",
   "outputs": [
    {
     "name": "stdout",
     "output_type": "stream",
     "text": [
      "                            OLS Regression Results                            \n",
      "==============================================================================\n",
      "Dep. Variable:                   rank   R-squared:                       0.326\n",
      "Model:                            OLS   Adj. R-squared:                  0.313\n",
      "Method:                 Least Squares   F-statistic:                     23.59\n",
      "Date:                Mon, 03 Jun 2024   Prob (F-statistic):           1.66e-12\n",
      "Time:                        20:27:18   Log-Likelihood:                -748.43\n",
      "No. Observations:                 150   AIC:                             1505.\n",
      "Df Residuals:                     146   BIC:                             1517.\n",
      "Df Model:                           3                                         \n",
      "Covariance Type:            nonrobust                                         \n",
      "==================================================================================\n",
      "                     coef    std err          t      P>|t|      [0.025      0.975]\n",
      "----------------------------------------------------------------------------------\n",
      "Intercept         56.0769      4.475     12.532      0.000      47.233      64.920\n",
      "comment_counts     0.0232      0.048      0.480      0.632      -0.072       0.118\n",
      "points            -0.1223      0.031     -3.960      0.000      -0.183      -0.061\n",
      "age_in_hours       2.1259      0.254      8.377      0.000       1.624       2.628\n",
      "==============================================================================\n",
      "Omnibus:                        8.126   Durbin-Watson:                   0.701\n",
      "Prob(Omnibus):                  0.017   Jarque-Bera (JB):                5.090\n",
      "Skew:                           0.289   Prob(JB):                       0.0785\n",
      "Kurtosis:                       2.306   Cond. No.                         287.\n",
      "==============================================================================\n",
      "\n",
      "Notes:\n",
      "[1] Standard Errors assume that the covariance matrix of the errors is correctly specified.\n"
     ]
    }
   ],
   "source": [
    "import statsmodels.formula.api as sm\n",
    "import matplotlib.pyplot as plt\n",
    "\n",
    "submissions_df = pd.read_csv('hackerPosts.csv')\n",
    "\n",
    "# rank predicted by comment_counts, points, and age_in_hours\n",
    "count_points_age_ols = sm.ols(formula=\"rank ~ comment_counts + points + age_in_hours\", data=submissions_df).fit()\n",
    "count_points_age_ols.summary()\n",
    "print(count_points_age_ols.summary())"
   ],
   "metadata": {
    "collapsed": false,
    "ExecuteTime": {
     "end_time": "2024-06-04T02:27:18.088817Z",
     "start_time": "2024-06-04T02:27:18.048902Z"
    }
   },
   "id": "aecb9c561ec825a",
   "execution_count": 41
  },
  {
   "cell_type": "markdown",
   "source": [],
   "metadata": {
    "collapsed": false
   },
   "id": "e2f09b9a28ac3251"
  },
  {
   "cell_type": "markdown",
   "source": [
    "#### Rank predicted by comment_counts, points, and age_in_hours\n",
    "R squared = .336\n",
    "P value:\n",
    "- comment_counts = .459\n",
    "- points = 0.0\n",
    "- age_in_hours = 0.0\n"
   ],
   "metadata": {
    "collapsed": false
   },
   "id": "31301f2ad9947bc5"
  },
  {
   "cell_type": "code",
   "outputs": [
    {
     "name": "stdout",
     "output_type": "stream",
     "text": [
      "                            OLS Regression Results                            \n",
      "==============================================================================\n",
      "Dep. Variable:                   rank   R-squared:                       0.225\n",
      "Model:                            OLS   Adj. R-squared:                  0.220\n",
      "Method:                 Least Squares   F-statistic:                     43.06\n",
      "Date:                Mon, 03 Jun 2024   Prob (F-statistic):           8.38e-10\n",
      "Time:                        20:27:18   Log-Likelihood:                -758.91\n",
      "No. Observations:                 150   AIC:                             1522.\n",
      "Df Residuals:                     148   BIC:                             1528.\n",
      "Df Model:                           1                                         \n",
      "Covariance Type:            nonrobust                                         \n",
      "================================================================================\n",
      "                   coef    std err          t      P>|t|      [0.025      0.975]\n",
      "--------------------------------------------------------------------------------\n",
      "Intercept       52.9960      4.645     11.410      0.000      43.817      62.175\n",
      "age_in_hours     1.5449      0.235      6.562      0.000       1.080       2.010\n",
      "==============================================================================\n",
      "Omnibus:                        8.059   Durbin-Watson:                   0.486\n",
      "Prob(Omnibus):                  0.018   Jarque-Bera (JB):                4.129\n",
      "Skew:                           0.172   Prob(JB):                        0.127\n",
      "Kurtosis:                       2.264   Cond. No.                         29.3\n",
      "==============================================================================\n",
      "\n",
      "Notes:\n",
      "[1] Standard Errors assume that the covariance matrix of the errors is correctly specified.\n"
     ]
    }
   ],
   "source": [
    "#rank predicted by age\n",
    "age_rank_ols = sm.ols(formula=\"rank ~ age_in_hours\", data=submissions_df).fit()\n",
    "age_rank_ols.summary()\n",
    "print(age_rank_ols.summary())"
   ],
   "metadata": {
    "collapsed": false,
    "ExecuteTime": {
     "end_time": "2024-06-04T02:27:18.089603Z",
     "start_time": "2024-06-04T02:27:18.073315Z"
    }
   },
   "id": "b09e1e3c3f44bb38",
   "execution_count": 42
  },
  {
   "cell_type": "markdown",
   "source": [
    "#### Rank predicted by age_in_hours\n",
    "\n",
    "R-squared = .257\n",
    "P value = 0.00"
   ],
   "metadata": {
    "collapsed": false
   },
   "id": "2143cd69188f0295"
  },
  {
   "cell_type": "code",
   "outputs": [
    {
     "name": "stdout",
     "output_type": "stream",
     "text": [
      "Intercept         77.170770\n",
      "comment_counts    -0.016216\n",
      "points            -0.008687\n",
      "dtype: float64\n",
      "                            OLS Regression Results                            \n",
      "==============================================================================\n",
      "Dep. Variable:                   rank   R-squared:                       0.003\n",
      "Model:                            OLS   Adj. R-squared:                 -0.011\n",
      "Method:                 Least Squares   F-statistic:                    0.2016\n",
      "Date:                Mon, 03 Jun 2024   Prob (F-statistic):              0.818\n",
      "Time:                        20:27:18   Log-Likelihood:                -777.86\n",
      "No. Observations:                 150   AIC:                             1562.\n",
      "Df Residuals:                     147   BIC:                             1571.\n",
      "Df Model:                           2                                         \n",
      "Covariance Type:            nonrobust                                         \n",
      "==================================================================================\n",
      "                     coef    std err          t      P>|t|      [0.025      0.975]\n",
      "----------------------------------------------------------------------------------\n",
      "Intercept         77.1708      4.485     17.205      0.000      68.306      86.035\n",
      "comment_counts    -0.0162      0.058     -0.279      0.781      -0.131       0.099\n",
      "points            -0.0087      0.034     -0.258      0.797      -0.075       0.058\n",
      "==============================================================================\n",
      "Omnibus:                       70.957   Durbin-Watson:                   0.006\n",
      "Prob(Omnibus):                  0.000   Jarque-Bera (JB):                9.437\n",
      "Skew:                           0.020   Prob(JB):                      0.00893\n",
      "Kurtosis:                       1.772   Cond. No.                         236.\n",
      "==============================================================================\n",
      "\n",
      "Notes:\n",
      "[1] Standard Errors assume that the covariance matrix of the errors is correctly specified.\n"
     ]
    }
   ],
   "source": [
    "#rank predicted points + comments\n",
    "rank_points_ols = sm.ols(formula=\"rank ~ comment_counts + points\", data=submissions_df).fit()\n",
    "print(str(rank_points_ols.params))\n",
    "print(rank_points_ols.summary())"
   ],
   "metadata": {
    "collapsed": false,
    "ExecuteTime": {
     "end_time": "2024-06-04T02:27:18.121239Z",
     "start_time": "2024-06-04T02:27:18.087176Z"
    }
   },
   "id": "6285d79a2872c37e",
   "execution_count": 43
  },
  {
   "cell_type": "markdown",
   "source": [
    "#### Rank predicted by comment_counts and points\n",
    "\n",
    "R-squared = 0\n",
    "P-value:\n",
    "- comment count = .993\n",
    "- points = .940"
   ],
   "metadata": {
    "collapsed": false
   },
   "id": "b7175c49fea71df7"
  },
  {
   "cell_type": "code",
   "outputs": [
    {
     "name": "stdout",
     "output_type": "stream",
     "text": [
      "                            OLS Regression Results                            \n",
      "==============================================================================\n",
      "Dep. Variable:                   rank   R-squared:                       0.325\n",
      "Model:                            OLS   Adj. R-squared:                  0.316\n",
      "Method:                 Least Squares   F-statistic:                     35.45\n",
      "Date:                Mon, 03 Jun 2024   Prob (F-statistic):           2.73e-13\n",
      "Time:                        20:27:18   Log-Likelihood:                -748.54\n",
      "No. Observations:                 150   AIC:                             1503.\n",
      "Df Residuals:                     147   BIC:                             1512.\n",
      "Df Model:                           2                                         \n",
      "Covariance Type:            nonrobust                                         \n",
      "================================================================================\n",
      "                   coef    std err          t      P>|t|      [0.025      0.975]\n",
      "--------------------------------------------------------------------------------\n",
      "Intercept       56.4063      4.410     12.790      0.000      47.691      65.122\n",
      "points          -0.1131      0.024     -4.668      0.000      -0.161      -0.065\n",
      "age_in_hours     2.1140      0.252      8.392      0.000       1.616       2.612\n",
      "==============================================================================\n",
      "Omnibus:                        8.364   Durbin-Watson:                   0.692\n",
      "Prob(Omnibus):                  0.015   Jarque-Bera (JB):                5.367\n",
      "Skew:                           0.308   Prob(JB):                       0.0683\n",
      "Kurtosis:                       2.308   Cond. No.                         261.\n",
      "==============================================================================\n",
      "\n",
      "Notes:\n",
      "[1] Standard Errors assume that the covariance matrix of the errors is correctly specified.\n"
     ]
    }
   ],
   "source": [
    "#rank predicted by points + age\n",
    "rank_points_ols = sm.ols(formula=\"rank ~ points + age_in_hours\", data=submissions_df).fit()\n",
    "rank_points_ols.summary()\n",
    "print(rank_points_ols.summary())"
   ],
   "metadata": {
    "collapsed": false,
    "ExecuteTime": {
     "end_time": "2024-06-04T02:27:18.231661Z",
     "start_time": "2024-06-04T02:27:18.224878Z"
    }
   },
   "id": "733805095b41375a",
   "execution_count": 44
  },
  {
   "cell_type": "markdown",
   "source": [
    "#### Rank predicted by points and age\n",
    "R-squared = .336\n",
    "P value:\n",
    "- points = 0.0\n",
    "- age = 0.0\n"
   ],
   "metadata": {
    "collapsed": false
   },
   "id": "e48f02c9221c330b"
  },
  {
   "cell_type": "markdown",
   "source": [
    "#### Observations\n",
    "The closer a R-square value is to 1, the stronger the correlation and the closer a P-value is to 0 the more significant the prediction is. \n",
    "\n",
    "Based off this, we can determine points and age together are the best indicator of rank, with their model explaining 36.6% of variability in rank. \n",
    "\n",
    "The coeff for points is -0.1133 and for age is 2.2187. This is note worthy because it means that as points go up, the rank will go slightly down. \n",
    "\n",
    "\n"
   ],
   "metadata": {
    "collapsed": false
   },
   "id": "a9bed247d0eb92e2"
  },
  {
   "cell_type": "markdown",
   "source": [
    "## Part 3 Classification"
   ],
   "metadata": {
    "collapsed": false
   },
   "id": "9dd41ad8618f8d80"
  },
  {
   "cell_type": "code",
   "outputs": [
    {
     "name": "stdout",
     "output_type": "stream",
     "text": [
      "Optimization terminated successfully.\n",
      "         Current function value: 0.420080\n",
      "         Iterations 6\n"
     ]
    },
    {
     "data": {
      "text/plain": "<Figure size 1000x600 with 1 Axes>",
      "image/png": "[encoded data removed]"
     },
     "metadata": {},
     "output_type": "display_data"
    },
    {
     "name": "stdout",
     "output_type": "stream",
     "text": [
      "                           Logit Regression Results                           \n",
      "==============================================================================\n",
      "Dep. Variable:             Front Page   No. Observations:                  150\n",
      "Model:                          Logit   Df Residuals:                      148\n",
      "Method:                           MLE   Df Model:                            1\n",
      "Date:                Mon, 03 Jun 2024   Pseudo R-squ.:                  0.1605\n",
      "Time:                        20:27:18   Log-Likelihood:                -63.012\n",
      "converged:                       True   LL-Null:                       -75.060\n",
      "Covariance Type:            nonrobust   LLR p-value:                 9.162e-07\n",
      "==============================================================================\n",
      "                 coef    std err          z      P>|z|      [0.025      0.975]\n",
      "------------------------------------------------------------------------------\n",
      "const         -2.4042      0.340     -7.066      0.000      -3.071      -1.737\n",
      "Score          0.9809      0.234      4.198      0.000       0.523       1.439\n",
      "==============================================================================\n"
     ]
    }
   ],
   "source": [
    "import numpy as np\n",
    "import matplotlib.pyplot as plt\n",
    "import statsmodels.api as sm\n",
    "\n",
    "# Compute 'Front Page' binary variable\n",
    "submissions_df['Front Page'] = np.where(submissions_df['rank'] <= 30, 1, 0)\n",
    "# Add 'Score' column (post's engagement relative to its age and points)\n",
    "submissions_df['Score'] = (submissions_df['points'] - 1) / (submissions_df['age_in_hours'] + 2) ** 1.8\n",
    "\n",
    "# Logistic Regression Model\n",
    "logit_model = sm.Logit(submissions_df['Front Page'], sm.add_constant(submissions_df[['Score']]))\n",
    "result = logit_model.fit()\n",
    "\n",
    "# PLOT\n",
    "plt.figure(figsize=(10, 6))\n",
    "\n",
    "# scatter plot data points are colored based on their front page status\n",
    "plt.scatter(submissions_df['Score'], submissions_df['Front Page'], c=['red' if x else 'blue' for x in submissions_df['Front Page']], label='Data Points')\n",
    "\n",
    "# logistic regression curve \n",
    "predicted_probs = result.predict(sm.add_constant(submissions_df[['Score']]))\n",
    "plt.plot(submissions_df['Score'], predicted_probs, color='black', label='Logistic Fit')\n",
    "\n",
    "# decision boundary\n",
    "plt.axhline(0.5, color='red', linestyle='--', label='Decision Boundary')\n",
    "\n",
    "plt.xlabel('Score')\n",
    "plt.ylabel('Front Page Probability')\n",
    "plt.title('Probability of Being on the Front Page by Score')\n",
    "plt.legend()\n",
    "plt.show()\n",
    "\n",
    "# Print the summary of the logistic regression\n",
    "print(result.summary())\n"
   ],
   "metadata": {
    "collapsed": false,
    "ExecuteTime": {
     "end_time": "2024-06-04T02:27:18.331276Z",
     "start_time": "2024-06-04T02:27:18.231510Z"
    }
   },
   "id": "20e009a175759ef8",
   "execution_count": 45
  },
  {
   "cell_type": "markdown",
   "source": [
    "**Pseudo R-squared (0.1257):**  The model explains about 12.57% of the variability in the front page status, which is relatively poor explanatory power.\n",
    "\n",
    "**Log-Likelihood and LL-Null:** The log-likelihood of the model is -65.622, compared to -75.060 for the model with no predictors (LL-Null). This improvement indicates that the model with predictors fits the data significantly better than a null model.\n",
    "\n",
    "**Score Coefficient:** 0.7793 with a standard error of 0.196. This positive coefficient indicates that higher scores significantly increase the log odds of a post being on the front page. The coefficient is statistically significant (P < 0.001), showing strong evidence that higher engagement relative to their age and points are more likely to appear on the front page."
   ],
   "metadata": {
    "collapsed": false
   },
   "id": "dc49382839f30099"
  },
  {
   "cell_type": "code",
   "outputs": [],
   "source": [],
   "metadata": {
    "collapsed": false,
    "ExecuteTime": {
     "end_time": "2024-06-04T02:27:18.331565Z",
     "start_time": "2024-06-04T02:27:18.328271Z"
    }
   },
   "id": "475cc185d7537e06",
   "execution_count": 45
  }
 ],
 "metadata": {
  "kernelspec": {
   "display_name": "Python 3",
   "language": "python",
   "name": "python3"
  },
  "language_info": {
   "codemirror_mode": {
    "name": "ipython",
    "version": 2
   },
   "file_extension": ".py",
   "mimetype": "text/x-python",
   "name": "python",
   "nbconvert_exporter": "python",
   "pygments_lexer": "ipython2",
   "version": "2.7.6"
  }
 },
 "nbformat": 4,
 "nbformat_minor": 5
}
